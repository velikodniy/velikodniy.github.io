{
 "cells": [
  {
   "cell_type": "code",
   "execution_count": 1,
   "metadata": {},
   "outputs": [],
   "source": [
    "import ast"
   ]
  },
  {
   "cell_type": "code",
   "execution_count": 2,
   "metadata": {},
   "outputs": [],
   "source": [
    "def translate(node):\n",
    "    if isinstance(node, ast.BinOp):\n",
    "        return translate_bin_op(node)\n",
    "    elif isinstance(node, ast.UnaryOp):\n",
    "        return translate_unary_op(node)\n",
    "    elif isinstance(node, ast.Num):\n",
    "        return translate_num(node)\n",
    "    elif isinstance(node, ast.Name):\n",
    "        return translate_name(node)\n",
    "    elif isinstance(node, ast.BoolOp):\n",
    "        return translate_bool_op(node)\n",
    "    elif isinstance(node, ast.Compare):\n",
    "        return translate_compare(node)\n",
    "    else:\n",
    "        raise ValueError('Node {} is not supported'.format(type(node)))"
   ]
  },
  {
   "cell_type": "code",
   "execution_count": 3,
   "metadata": {},
   "outputs": [],
   "source": [
    "def translate_name(node):\n",
    "    return node.id"
   ]
  },
  {
   "cell_type": "code",
   "execution_count": 4,
   "metadata": {},
   "outputs": [],
   "source": [
    "def translate_num(node):\n",
    "    return str(node.n)"
   ]
  },
  {
   "cell_type": "code",
   "execution_count": 5,
   "metadata": {},
   "outputs": [],
   "source": [
    "def add_brackets(expression):\n",
    "    return '\\\\left( {expression} \\\\right)'.format(\n",
    "        expression=expression\n",
    "    )"
   ]
  },
  {
   "cell_type": "code",
   "execution_count": 6,
   "metadata": {},
   "outputs": [],
   "source": [
    "def is_add(node):\n",
    "    return isinstance(node, ast.BinOp) and (\n",
    "        isinstance(node.op, ast.Add) or isinstance(node.op, ast.Sub))"
   ]
  },
  {
   "cell_type": "code",
   "execution_count": 7,
   "metadata": {},
   "outputs": [],
   "source": [
    "def translate_unary_op(node):\n",
    "    expression = translate(node.operand)\n",
    "    if isinstance(node.op, ast.Not):\n",
    "        return '\\\\overline{{{expression}}}'.format(\n",
    "            expression=expression\n",
    "        )\n",
    "    \n",
    "    if isinstance(node.op, ast.UAdd):\n",
    "        sign = '+'\n",
    "    elif isinstance(node.op, ast.USub):\n",
    "        sign = '-'\n",
    "    else:\n",
    "        raise ValueError('Node {} is not supported'.format(type(node)))\n",
    "    \n",
    "    if is_add(node.operand):\n",
    "        expression = add_brackets(expression)\n",
    "    \n",
    "    return '{sign} {expression}'.format(\n",
    "        sign=sign,\n",
    "        expression=expression\n",
    "    )"
   ]
  },
  {
   "cell_type": "code",
   "execution_count": 8,
   "metadata": {},
   "outputs": [],
   "source": [
    "def translate_bin_op(node):\n",
    "    left = translate(node.left)\n",
    "    right = translate(node.right)\n",
    "    if isinstance(node.op, ast.Mult):\n",
    "        if is_add(node.left):\n",
    "            left = add_brackets(left)\n",
    "        if is_add(node.right):\n",
    "            right = add_brackets(right)\n",
    "        return '{left} \\\\cdot {right}'.format(\n",
    "            left=left,\n",
    "            right=right\n",
    "        )\n",
    "    elif isinstance(node.op, ast.Div):\n",
    "        return '\\\\frac{{{left}}}{{{right}}}'.format(\n",
    "            left=left,\n",
    "            right=right\n",
    "        )\n",
    "    elif isinstance(node.op, ast.Add):\n",
    "        return '{left} + {right}'.format(\n",
    "            left=left,\n",
    "            right=right\n",
    "        )\n",
    "    elif isinstance(node.op, ast.Sub):\n",
    "        return '{left} - {right}'.format(\n",
    "            left=left,\n",
    "            right=right\n",
    "        )\n",
    "    elif isinstance(node.op, ast.Pow):\n",
    "        if is_add(node.left):\n",
    "            left = add_brackets(left)\n",
    "        return '{{{left}}} ^ {{{right}}}'.format(\n",
    "            left=left,\n",
    "            right=right\n",
    "        )\n",
    "    else:\n",
    "        raise ValueError('Node {} is not supported'.format(type(node)))\n",
    "        "
   ]
  },
  {
   "cell_type": "code",
   "execution_count": 9,
   "metadata": {},
   "outputs": [],
   "source": [
    "COMPARE_OPS = {\n",
    "    ast.Lt: '<',\n",
    "    ast.LtE: '\\\\leq',\n",
    "    ast.Gt: '>',\n",
    "    ast.GtE: '\\\\geq',\n",
    "    ast.Eq: '=',\n",
    "}"
   ]
  },
  {
   "cell_type": "code",
   "execution_count": 10,
   "metadata": {},
   "outputs": [],
   "source": [
    "def compare_op_sign(op):\n",
    "    try:\n",
    "        return COMPARE_OPS[type(op)]\n",
    "    except KeyError:\n",
    "        raise ValueError('Operator {} is not supported'.format(type(op)))"
   ]
  },
  {
   "cell_type": "code",
   "execution_count": 11,
   "metadata": {},
   "outputs": [],
   "source": [
    "def translate_compare(node):\n",
    "    args = [translate(node.left)]\n",
    "    for op, arg in zip(node.ops, node.comparators):\n",
    "        args.append(compare_op_sign(op))\n",
    "        args.append(translate(arg))\n",
    "    return ' '.join(args)"
   ]
  },
  {
   "cell_type": "code",
   "execution_count": 12,
   "metadata": {},
   "outputs": [],
   "source": [
    "def bool_op_sign(op):\n",
    "    if isinstance(op, ast.And):\n",
    "        return '\\\\wedge'\n",
    "    elif isinstance(op, ast.Or):\n",
    "        return '\\\\vee'\n",
    "    else:\n",
    "        raise ValueError('Operator {} is not supported'.format(type(op)))"
   ]
  },
  {
   "cell_type": "code",
   "execution_count": 13,
   "metadata": {},
   "outputs": [],
   "source": [
    "def translate_bool_op(node):\n",
    "    sign = ' {sign} '.format(\n",
    "        sign=bool_op_sign(node.op)\n",
    "    )\n",
    "    args = []\n",
    "    for arg in node.values:\n",
    "        expression = translate(arg)\n",
    "        if not isinstance(arg, ast.Name) and \\\n",
    "            not isinstance(arg, ast.Num) and \\\n",
    "            not (\n",
    "                isinstance(arg, ast.UnaryOp) and \\\n",
    "                type(arg.op) == ast.Not):\n",
    "            expression = add_brackets(expression)\n",
    "        args.append(expression)\n",
    "    return sign.join(args)"
   ]
  },
  {
   "cell_type": "code",
   "execution_count": 14,
   "metadata": {},
   "outputs": [
    {
     "name": "stdout",
     "output_type": "stream",
     "text": [
      "- \\left( x + 2 \\right) \\cdot y \\cdot z + \\frac{3 \\cdot {\\left( 2 + v \\right)} ^ {2}}{u}\n"
     ]
    }
   ],
   "source": [
    "tree = ast.parse('-(x + 2) * y * z + 3 * (2 + v) ** 2 / u')\n",
    "print(translate(tree.body[0].value))"
   ]
  },
  {
   "cell_type": "markdown",
   "metadata": {},
   "source": [
    "$$- \\left( x + 2 \\right) \\cdot y \\cdot z + \\frac{3 \\cdot {\\left( 2 + v \\right)} ^ {2}}{u}$$"
   ]
  },
  {
   "cell_type": "code",
   "execution_count": 15,
   "metadata": {
    "scrolled": true
   },
   "outputs": [
    {
     "name": "stdout",
     "output_type": "stream",
     "text": [
      "\\overline{A \\geq B} \\wedge \\left( 0 < C \\leq 1 \\right)\n"
     ]
    }
   ],
   "source": [
    "tree = ast.parse('not A >= B and 0 < C <= 1')\n",
    "print(translate(tree.body[0].value))"
   ]
  },
  {
   "cell_type": "markdown",
   "metadata": {},
   "source": [
    "$$\\overline{A \\geq B} \\wedge \\left( 0 < C \\leq 1 \\right)$$"
   ]
  },
  {
   "cell_type": "code",
   "execution_count": null,
   "metadata": {},
   "outputs": [],
   "source": []
  }
 ],
 "metadata": {
  "kernelspec": {
   "display_name": "Python 3",
   "language": "python",
   "name": "python3"
  },
  "language_info": {
   "codemirror_mode": {
    "name": "ipython",
    "version": 3
   },
   "file_extension": ".py",
   "mimetype": "text/x-python",
   "name": "python",
   "nbconvert_exporter": "python",
   "pygments_lexer": "ipython3",
   "version": "3.7.3"
  }
 },
 "nbformat": 4,
 "nbformat_minor": 2
}
